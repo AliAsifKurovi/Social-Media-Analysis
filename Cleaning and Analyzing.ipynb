{
 "cells": [
  {
   "cell_type": "markdown",
   "metadata": {},
   "source": [
    "# Clean and analyze social media usage data with Python"
   ]
  },
  {
   "cell_type": "markdown",
   "metadata": {},
   "source": [
    "## Import required libraries\n",
    "Importing the following required libraries:\n",
    "* pandas for creating the dataframe\n",
    "* numpy for forming a random number from a range\n",
    "* Matplotlib.pyplot for displaying graphs\n",
    "* seaborn for plotting the data\n",
    "* random for making a choice from a list of items"
   ]
  },
  {
   "cell_type": "code",
   "execution_count": 4,
   "metadata": {},
   "outputs": [],
   "source": [
    "import pandas as pd\n",
    "import numpy as np\n",
    "import random as rd\n",
    "\n",
    "import matplotlib as mtp\n",
    "import matplotlib.pyplot as plt\n",
    "\n",
    "import seaborn as sns\n",
    "import seaborn.objects as so"
   ]
  },
  {
   "cell_type": "markdown",
   "metadata": {},
   "source": [
    "## Generate random data for the social media data"
   ]
  },
  {
   "cell_type": "markdown",
   "metadata": {},
   "source": [
    "Generate some random tweet data"
   ]
  },
  {
   "cell_type": "code",
   "execution_count": 13,
   "metadata": {},
   "outputs": [],
   "source": [
    "# Define the list of categories\n",
    "categories = ['Food', 'Travel', 'Fashion', 'Fitness', 'Music', 'Culture', 'Family', 'Health', 'Faith', 'Game', 'Entertainment']\n",
    "\n",
    "# Define the number of periods (n)\n",
    "n = 10000\n",
    "\n",
    "# Generate the data dictionary\n",
    "data = {\n",
    "    'Date': pd.date_range(start='2020-01-01', end='2024-08-29', periods=n),\n",
    "    'Category': [rd.choice(categories) for _ in range(n)],\n",
    "    'Likes': np.random.randint(0, 10000, size=n)\n",
    "}\n"
   ]
  },
  {
   "cell_type": "markdown",
   "metadata": {},
   "source": [
    "## Load the data into a Pandas DataFrame and Explore the data"
   ]
  },
  {
   "cell_type": "code",
   "execution_count": 14,
   "metadata": {},
   "outputs": [
    {
     "name": "stdout",
     "output_type": "stream",
     "text": [
      "                           Date       Category  Likes\n",
      "0 2020-01-01 00:00:00.000000000  Entertainment   6043\n",
      "1 2020-01-01 04:05:06.750675067           Game   6402\n",
      "2 2020-01-01 08:10:13.501350135  Entertainment   9829\n",
      "3 2020-01-01 12:15:20.252025202           Food   5250\n",
      "4 2020-01-01 16:20:27.002700270          Faith   9082\n"
     ]
    }
   ],
   "source": [
    "# Convert the data dictionary to a DataFrame\n",
    "df = pd.DataFrame(data)\n",
    "\n",
    "# Display the first few rows of the DataFrame\n",
    "print(df.head())"
   ]
  },
  {
   "cell_type": "code",
   "execution_count": 15,
   "metadata": {},
   "outputs": [
    {
     "name": "stdout",
     "output_type": "stream",
     "text": [
      "\n",
      "DataFrame Information:\n",
      "<class 'pandas.core.frame.DataFrame'>\n",
      "RangeIndex: 10000 entries, 0 to 9999\n",
      "Data columns (total 3 columns):\n",
      " #   Column    Non-Null Count  Dtype         \n",
      "---  ------    --------------  -----         \n",
      " 0   Date      10000 non-null  datetime64[ns]\n",
      " 1   Category  10000 non-null  object        \n",
      " 2   Likes     10000 non-null  int32         \n",
      "dtypes: datetime64[ns](1), int32(1), object(1)\n",
      "memory usage: 195.4+ KB\n",
      "None\n"
     ]
    }
   ],
   "source": [
    "print(\"\\nDataFrame Information:\")\n",
    "print(df.info())"
   ]
  },
  {
   "cell_type": "code",
   "execution_count": 16,
   "metadata": {},
   "outputs": [
    {
     "name": "stdout",
     "output_type": "stream",
     "text": [
      "\n",
      "DataFrame Description:\n",
      "                      Date        Likes\n",
      "count                10000  10000.00000\n",
      "mean   2022-05-01 00:00:00   4978.56130\n",
      "min    2020-01-01 00:00:00      0.00000\n",
      "25%    2021-03-01 12:00:00   2525.50000\n",
      "50%    2022-05-01 00:00:00   4987.00000\n",
      "75%    2023-06-30 12:00:00   7378.00000\n",
      "max    2024-08-29 00:00:00   9998.00000\n",
      "std                    NaN   2851.59419\n"
     ]
    }
   ],
   "source": [
    "# Print descriptive statistics\n",
    "print(\"\\nDataFrame Description:\")\n",
    "print(df.describe())"
   ]
  },
  {
   "cell_type": "code",
   "execution_count": 17,
   "metadata": {},
   "outputs": [
    {
     "name": "stdout",
     "output_type": "stream",
     "text": [
      "\n",
      "Category Count:\n",
      "Category\n",
      "Health           949\n",
      "Family           929\n",
      "Fitness          922\n",
      "Entertainment    918\n",
      "Culture          918\n",
      "Music            912\n",
      "Food             907\n",
      "Game             905\n",
      "Travel           892\n",
      "Faith            889\n",
      "Fashion          859\n",
      "Name: count, dtype: int64\n"
     ]
    }
   ],
   "source": [
    "# Print the count of each 'Category' element\n",
    "print(\"\\nCategory Count:\")\n",
    "print(df['Category'].value_counts())"
   ]
  },
  {
   "cell_type": "markdown",
   "metadata": {},
   "source": [
    "### Clean Data"
   ]
  },
  {
   "cell_type": "markdown",
   "metadata": {},
   "source": []
  },
  {
   "cell_type": "code",
   "execution_count": 18,
   "metadata": {},
   "outputs": [],
   "source": [
    "# Remove all rows with null data\n",
    "df_cleaned = df.dropna()"
   ]
  },
  {
   "cell_type": "code",
   "execution_count": 19,
   "metadata": {},
   "outputs": [],
   "source": [
    "# Remove duplicate rows\n",
    "df_cleaned = df_cleaned.drop_duplicates()"
   ]
  },
  {
   "cell_type": "code",
   "execution_count": 21,
   "metadata": {},
   "outputs": [],
   "source": [
    "# Convert the 'Date' field to a datetime format\n",
    "df_cleaned['Date'] = pd.to_datetime(df_cleaned['Date'])"
   ]
  },
  {
   "cell_type": "code",
   "execution_count": 22,
   "metadata": {},
   "outputs": [],
   "source": [
    "# Convert the 'Likes' field to an integer\n",
    "df_cleaned['Likes'] = df_cleaned['Likes'].astype(int)"
   ]
  },
  {
   "cell_type": "code",
   "execution_count": 23,
   "metadata": {},
   "outputs": [
    {
     "name": "stdout",
     "output_type": "stream",
     "text": [
      "Cleaned DataFrame:\n",
      "                           Date       Category  Likes\n",
      "0 2020-01-01 00:00:00.000000000  Entertainment   6043\n",
      "1 2020-01-01 04:05:06.750675067           Game   6402\n",
      "2 2020-01-01 08:10:13.501350135  Entertainment   9829\n",
      "3 2020-01-01 12:15:20.252025202           Food   5250\n",
      "4 2020-01-01 16:20:27.002700270          Faith   9082\n"
     ]
    }
   ],
   "source": [
    "# Display the cleaned DataFrame\n",
    "print(\"Cleaned DataFrame:\")\n",
    "print(df_cleaned.head())"
   ]
  },
  {
   "cell_type": "code",
   "execution_count": 24,
   "metadata": {},
   "outputs": [
    {
     "name": "stdout",
     "output_type": "stream",
     "text": [
      "\n",
      "DataFrame Information:\n",
      "<class 'pandas.core.frame.DataFrame'>\n",
      "RangeIndex: 10000 entries, 0 to 9999\n",
      "Data columns (total 3 columns):\n",
      " #   Column    Non-Null Count  Dtype         \n",
      "---  ------    --------------  -----         \n",
      " 0   Date      10000 non-null  datetime64[ns]\n",
      " 1   Category  10000 non-null  object        \n",
      " 2   Likes     10000 non-null  int32         \n",
      "dtypes: datetime64[ns](1), int32(1), object(1)\n",
      "memory usage: 195.4+ KB\n",
      "None\n"
     ]
    }
   ],
   "source": [
    "# Display DataFrame info to confirm data types and cleaned data\n",
    "print(\"\\nDataFrame Information:\")\n",
    "print(df_cleaned.info())\n"
   ]
  },
  {
   "cell_type": "markdown",
   "metadata": {},
   "source": [
    "### Visualize and Analyze the data"
   ]
  },
  {
   "cell_type": "code",
   "execution_count": 25,
   "metadata": {},
   "outputs": [
    {
     "data": {
      "image/png": "[encoded data removed]",
      "text/plain": [
       "<Figure size 640x480 with 1 Axes>"
      ]
     },
     "metadata": {},
     "output_type": "display_data"
    }
   ],
   "source": [
    "# Visualization 1: Histogram of Likes\n",
    "sns.histplot(df_cleaned['Likes'], bins=30, kde=True)\n",
    "plt.title('Histogram of Likes')\n",
    "plt.xlabel('Likes')\n",
    "plt.ylabel('Frequency')\n",
    "plt.show()"
   ]
  },
  {
   "cell_type": "code",
   "execution_count": 30,
   "metadata": {},
   "outputs": [
    {
     "data": {
      "image/png": "[encoded data removed]",
      "text/plain": [
       "<Figure size 640x480 with 1 Axes>"
      ]
     },
     "metadata": {},
     "output_type": "display_data"
    }
   ],
   "source": [
    "# Visualization 2: Boxplot of Likes by Category\n",
    "sns.boxplot(x='Category', y='Likes', data=df_cleaned)\n",
    "plt.title('Boxplot of Likes by Category')\n",
    "plt.xlabel('Category')\n",
    "plt.ylabel('Likes')\n",
    "plt.xticks(rotation=90)\n",
    "plt.show()"
   ]
  },
  {
   "cell_type": "code",
   "execution_count": 31,
   "metadata": {},
   "outputs": [
    {
     "name": "stdout",
     "output_type": "stream",
     "text": [
      "Mean of Likes: 4978.56\n"
     ]
    }
   ],
   "source": [
    "# Statistical Analysis\n",
    "# 1. Mean of the 'Likes' column\n",
    "mean_likes = df_cleaned['Likes'].mean()\n",
    "print(f\"Mean of Likes: {mean_likes:.2f}\")"
   ]
  },
  {
   "cell_type": "code",
   "execution_count": 32,
   "metadata": {},
   "outputs": [
    {
     "name": "stdout",
     "output_type": "stream",
     "text": [
      "\n",
      "Mean of Likes by Category:\n",
      "Category\n",
      "Culture          5054.639434\n",
      "Entertainment    5108.428105\n",
      "Faith            4988.654668\n",
      "Family           4742.508073\n",
      "Fashion          4987.176950\n",
      "Fitness          5122.957701\n",
      "Food             4886.049614\n",
      "Game             4894.430939\n",
      "Health           5098.967334\n",
      "Music            4798.033991\n",
      "Travel           5080.747758\n",
      "Name: Likes, dtype: float64\n"
     ]
    }
   ],
   "source": [
    "# 2. Mean of 'Likes' for each Category\n",
    "mean_likes_by_category = df_cleaned.groupby('Category')['Likes'].mean()\n",
    "print(\"\\nMean of Likes by Category:\")\n",
    "print(mean_likes_by_category)"
   ]
  },
  {
   "cell_type": "markdown",
   "metadata": {},
   "source": [
    "### Conclusion\n",
    "#### Process and Key Findings\n",
    "In this project, I undertook the task of analyzing social media data by generating, cleaning, visualizing, and performing statistical analysis on a dataset of tweets. Here's a summary of the process and key findings:\n",
    "\n",
    "##### Data Generation and Cleaning:\n",
    "* Data Generation: I created a synthetic dataset consisting of random dates, categories, and numbers of likes to simulate real-world social media data.\n",
    "* Data Cleaning: I handled missing values and duplicates to ensure the integrity of the data. By converting date and likes fields to appropriate formats, I prepared the data for effective analysis.\n",
    "\n",
    "##### Data Visualization:\n",
    "* Histogram: The histogram of likes showed the distribution of likes across the dataset. The presence of a bell-shaped curve indicated that most tweets received a moderate number of likes, with fewer tweets receiving very high or very low likes.\n",
    "* Boxplot: The boxplot visualized the distribution of likes across different categories. It revealed variations in likes among categories, with some categories having higher median likes and larger interquartile ranges.\n",
    "\n",
    "##### Statistical Analysis:\n",
    "* Overall Mean of Likes: The mean number of likes across all tweets was approximately 4987, indicating a generally moderate level of engagement.\n",
    "* Mean Likes by Category: Analysis by category showed differences in engagement levels, with categories like 'Culture' and 'Health' having higher average likes compared to others. This suggests that certain topics resonate more with the audience, which can guide content strategies.\n",
    "\n",
    "##### Challenges and Solutions\n",
    "* Handling Missing Values: One challenge was dealing with missing values in the dataset. I addressed this by removing rows with null values to maintain the dataset's quality.\n",
    "* Ensuring Data Integrity: Removing duplicates was crucial to avoid skewed results. I used built-in Pandas methods to ensure that the dataset was clean and reliable.\n",
    "* Data Conversion: Converting fields to appropriate data types was necessary for accurate analysis and visualization. I ensured the 'Date' field was in datetime format and 'Likes' was an integer.\n",
    "\n",
    "#### Unique Aspects of the Project\n",
    "* Synthetic Data Generation: The use of synthetic data allowed for the demonstration of the entire data analysis pipeline without relying on real-world datasets, showcasing the ability to handle various data scenarios.\n",
    "* Comprehensive Analysis: The combination of visualization and statistical analysis provided a thorough understanding of the data. The use of Seaborn and Matplotlib for visualization, along with Pandas for statistical analysis, demonstrated proficiency with essential data analysis tools.\n",
    "\n",
    "##### Improvements and Future Work\n",
    "* Enhanced Data Quality: For real-world applications, integrating additional data quality checks and validation processes would be beneficial.\n",
    "* Advanced Visualizations: Implementing interactive visualizations using tools like Plotly could provide more dynamic insights and user engagement.\n",
    "* Incorporating Machine Learning: Future work could involve applying machine learning techniques to predict trends in likes based on tweet content or user engagement metrics."
   ]
  },
  {
   "cell_type": "code",
   "execution_count": null,
   "metadata": {},
   "outputs": [],
   "source": []
  }
 ],
 "metadata": {
  "kernelspec": {
   "display_name": "Python 3",
   "language": "python",
   "name": "python3"
  },
  "language_info": {
   "codemirror_mode": {
    "name": "ipython",
    "version": 3
   },
   "file_extension": ".py",
   "mimetype": "text/x-python",
   "name": "python",
   "nbconvert_exporter": "python",
   "pygments_lexer": "ipython3",
   "version": "3.12.5"
  }
 },
 "nbformat": 4,
 "nbformat_minor": 2
}
